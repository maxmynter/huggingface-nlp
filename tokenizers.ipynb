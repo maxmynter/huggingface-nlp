{
 "cells": [
  {
   "cell_type": "code",
   "execution_count": 1,
   "id": "84923c4f-39a9-4f99-ba55-a4400356ded2",
   "metadata": {},
   "outputs": [],
   "source": [
    "from transformers import AutoTokenizer"
   ]
  },
  {
   "cell_type": "code",
   "execution_count": 3,
   "id": "e126e23c-9fbb-4e04-a44a-45999f7e9848",
   "metadata": {},
   "outputs": [],
   "source": [
    "sen1=\"I’ve been waiting for a HuggingFace course my whole life.\" \n",
    "sen2= \"I hate this so much!\""
   ]
  },
  {
   "cell_type": "code",
   "execution_count": 11,
   "id": "827ed7f4-f90b-48a6-8309-0ec27d5fdfbd",
   "metadata": {},
   "outputs": [
    {
     "data": {
      "application/vnd.jupyter.widget-view+json": {
       "model_id": "6c4649acf568416eb7daa0f8eaf03ec4",
       "version_major": 2,
       "version_minor": 0
      },
      "text/plain": [
       "Downloading tokenizer_config.json:   0%|          | 0.00/48.0 [00:00<?, ?B/s]"
      ]
     },
     "metadata": {},
     "output_type": "display_data"
    },
    {
     "data": {
      "application/vnd.jupyter.widget-view+json": {
       "model_id": "b4d9841d8e504e4d896785be585ff4d9",
       "version_major": 2,
       "version_minor": 0
      },
      "text/plain": [
       "Downloading config.json:   0%|          | 0.00/629 [00:00<?, ?B/s]"
      ]
     },
     "metadata": {},
     "output_type": "display_data"
    },
    {
     "data": {
      "application/vnd.jupyter.widget-view+json": {
       "model_id": "2187c32dd5ee4cfca6dda5841f42be23",
       "version_major": 2,
       "version_minor": 0
      },
      "text/plain": [
       "Downloading vocab.txt:   0%|          | 0.00/226k [00:00<?, ?B/s]"
      ]
     },
     "metadata": {},
     "output_type": "display_data"
    }
   ],
   "source": [
    "checkpoint = \"distilbert-base-uncased-finetuned-sst-2-english\"\n",
    "tokenizer = AutoTokenizer.from_pretrained(checkpoint)"
   ]
  },
  {
   "cell_type": "code",
   "execution_count": 12,
   "id": "d222584c-430f-409e-bf21-6dfa82eb110b",
   "metadata": {},
   "outputs": [],
   "source": [
    "sen1_tokens = tokenizer.tokenize(sen1)\n",
    "sen2_tokens = tokenizer.tokenize(sen2)"
   ]
  },
  {
   "cell_type": "code",
   "execution_count": 13,
   "id": "2570352b-5ece-4442-ade0-4507679da18b",
   "metadata": {},
   "outputs": [],
   "source": [
    "sen1_ids = tokenizer.convert_tokens_to_ids(sen1_tokens)\n",
    "sen2_ids = tokenizer.convert_tokens_to_ids(sen2_tokens)"
   ]
  },
  {
   "cell_type": "code",
   "execution_count": 14,
   "id": "b187b8a2-ef85-492c-a182-122ace85b872",
   "metadata": {},
   "outputs": [
    {
     "data": {
      "text/plain": [
       "[1045,\n",
       " 1521,\n",
       " 2310,\n",
       " 2042,\n",
       " 3403,\n",
       " 2005,\n",
       " 1037,\n",
       " 17662,\n",
       " 12172,\n",
       " 2607,\n",
       " 2026,\n",
       " 2878,\n",
       " 2166,\n",
       " 1012]"
      ]
     },
     "execution_count": 14,
     "metadata": {},
     "output_type": "execute_result"
    }
   ],
   "source": [
    "sen1_ids"
   ]
  },
  {
   "cell_type": "code",
   "execution_count": null,
   "id": "a5f0f89e-8128-4d74-a816-d7cc38c9b326",
   "metadata": {},
   "outputs": [],
   "source": []
  }
 ],
 "metadata": {
  "kernelspec": {
   "display_name": "Python 3 (ipykernel)",
   "language": "python",
   "name": "python3"
  },
  "language_info": {
   "codemirror_mode": {
    "name": "ipython",
    "version": 3
   },
   "file_extension": ".py",
   "mimetype": "text/x-python",
   "name": "python",
   "nbconvert_exporter": "python",
   "pygments_lexer": "ipython3",
   "version": "3.9.16"
  }
 },
 "nbformat": 4,
 "nbformat_minor": 5
}
